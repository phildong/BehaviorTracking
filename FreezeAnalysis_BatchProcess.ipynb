{
 "cells": [
  {
   "cell_type": "markdown",
   "metadata": {},
   "source": [
    "# Instructions\n",
    "The following code was designed in order to load in and score motion/freezing data from video files. This code should be run with carefully selected parameters using the more extensive visualization options provided in FreezeAnalyis.ipynb.  In addition to saving frame by frame motion/freezing information for each video in separate csv files, bins can also be defined for summarizing videos (e.g. minute by minute).  All summary information will be saved in a single file.  If no bins are defined, the code will automatically create a summary file that lists average session motion/freezing per video.\n",
    "\n",
    "### Package Requirements\n",
    "Please see instructions under repository README for package requirements and install instructions."
   ]
  },
  {
   "cell_type": "markdown",
   "metadata": {},
   "source": [
    "---\n",
    "# 1. Load Necessary Packages"
   ]
  },
  {
   "cell_type": "code",
   "execution_count": null,
   "metadata": {},
   "outputs": [],
   "source": [
    "%load_ext autoreload\n",
    "%autoreload 2\n",
    "import numpy as np\n",
    "import matplotlib.pyplot as plt\n",
    "import pandas as pd\n",
    "import BehaviorTracking_Functions as fz\n",
    "plt.gray()"
   ]
  },
  {
   "cell_type": "markdown",
   "metadata": {},
   "source": [
    "---\n",
    "# 2. User Sets Directory and Parameters for Motion/Freeze Analysis\n",
    "Note that all videos of particular type will be analyzed.  Videos should be of the same length if user is defining bins.  Videos should be the same fps and the same width/height."
   ]
  },
  {
   "cell_type": "code",
   "execution_count": null,
   "metadata": {},
   "outputs": [],
   "source": [
    "# directory containing all video files to be processed\n",
    "dpath = \"/Users/ZP/Desktop/Videos\"\n",
    "\n",
    "#video parameters\n",
    "ftype = \"mpg\" #file type.  so far only mpg1 (\"mpg\") and wmv (\"wmb\") have been tested\n",
    "fps = 30 #fps of video files\n",
    "ycrop = 150 #cropping of video frame\n",
    "SIGMA = 1 #this is sigma used for gaussian smoothing of image.  Used to reduce influence of frame by frame pixel jitter. 1 works well but could increased slightly if noise is detected. \n",
    "\n",
    "#Motion/Freezing parameters\n",
    "mt_cutoff = 10.3 #Motion cutoff\n",
    "FreezeThresh = 188 #Upper bound for freezing, in frame-by-frame pixels changed\n",
    "MinDuration = .5 #Number of seconds motion must be below threshold to beging accruing freezing\n"
   ]
  },
  {
   "cell_type": "markdown",
   "metadata": {},
   "source": [
    "---\n",
    "# 3. User Defines Bins for Summary data"
   ]
  },
  {
   "cell_type": "code",
   "execution_count": null,
   "metadata": {},
   "outputs": [],
   "source": [
    "Use_Bins = True #Define whether user specified summary bins are to bew used.  True/False.\n",
    "\n",
    "#USER SETS BIN INFORMATION\n",
    "Bin_Names = ['30','60','90','120','150','180','210','240','270','300'] #Create list of bin names. Must be in single/double quotes (eg: ['avg','1','2'])\n",
    "Bin_Start = np.arange(0,300,30) #provide list of bin start times, in seconds (eg: [0,0,60])\n",
    "Bin_Stop = np.arange(20,301,30) #provide list of bin end times, in seconds (eg: [120,60,120])\n",
    "\n",
    "#Check requirement that lists be equal length\n",
    "fz.Check(Bin_Names,Bin_Start,Bin_Stop)  "
   ]
  },
  {
   "cell_type": "markdown",
   "metadata": {},
   "source": [
    "---\n",
    "# 4. Analyze Videos"
   ]
  },
  {
   "cell_type": "code",
   "execution_count": null,
   "metadata": {},
   "outputs": [],
   "source": [
    "fz.Batch(dpath,ftype,fps,ycrop,SIGMA,mt_cutoff,FreezeThresh,MinDuration,Use_Bins,Bin_Names,Bin_Start,Bin_Stop)"
   ]
  }
 ],
 "metadata": {
  "kernelspec": {
   "display_name": "Python 3",
   "language": "python",
   "name": "python3"
  },
  "language_info": {
   "codemirror_mode": {
    "name": "ipython",
    "version": 3
   },
   "file_extension": ".py",
   "mimetype": "text/x-python",
   "name": "python",
   "nbconvert_exporter": "python",
   "pygments_lexer": "ipython3",
   "version": "3.6.5"
  }
 },
 "nbformat": 4,
 "nbformat_minor": 2
}
