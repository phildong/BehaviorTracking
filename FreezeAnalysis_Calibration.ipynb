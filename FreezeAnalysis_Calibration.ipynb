{
 "cells": [
  {
   "cell_type": "markdown",
   "metadata": {},
   "source": [
    "# Instructions\n",
    "The following code was designed to be used in conjunction with FreezeAnalysis.ipynb and FreezeAnalysis_BatchProcess.ipynb in order to set the motion threshold for detecting motion.  Videos should be loaded in which an animal is not present in the box.\n",
    "\n",
    "\n",
    "### Package Requirements\n",
    "The following will need to be installed in your Conda environment:\n",
    "\n",
    "- python (3.6.5)\n",
    "\n",
    "- jupyter\n",
    "\n",
    "- imread\n",
    "\n",
    "- mahotas(1.4.4)\n",
    "\n",
    "- numpy(1.14.3)\n",
    "\n",
    "- pandas(0.23.0)\n",
    "\n",
    "- matplotlib(2.2.2). \n",
    "\n",
    "- opencv(3.4.3\n",
    "\n",
    "The following commands can be executed in your terminal to create an environment with these packages: \n",
    "\n",
    "```conda config --add channels conda-forge```\n",
    "\n",
    "```conda create -n EnvironmentName python=3.6.5 mahotas=1.4.4 pandas=0.23.0 matplotlib=2.2.2 opencv=3.4.3 jupyter imread```\n"
   ]
  },
  {
   "cell_type": "markdown",
   "metadata": {},
   "source": [
    "---\n",
    "# 1. Load Necessary Packages"
   ]
  },
  {
   "cell_type": "code",
   "execution_count": null,
   "metadata": {},
   "outputs": [],
   "source": [
    "%load_ext autoreload\n",
    "%autoreload 2\n",
    "import numpy as np\n",
    "import matplotlib.pyplot as plt\n",
    "import FreezeAnalysis_Functions as fz\n",
    "plt.gray()"
   ]
  },
  {
   "cell_type": "markdown",
   "metadata": {},
   "source": [
    "---\n",
    "# 2. Set Directory and File Information\n",
    "### To be set by user:"
   ]
  },
  {
   "cell_type": "code",
   "execution_count": null,
   "metadata": {},
   "outputs": [],
   "source": [
    "#Video information\n",
    "dpath = \"/Users/ZP/Desktop/Videos\" # directory containing file\n",
    "file = \"Calibration Box 1.mpg\" #filename. will take mpg and wmv files but maybe more.  only mpg1 have been extensively tested.\n",
    "cal_sec = 8 #number of seconds in video to calibrate based upon\n",
    "fps = 30 #frames per second\n",
    "\n",
    "#Calibration parameters.  Need not be changed.\n",
    "SIGMA = 1 #this is sigma used for gaussian smoothing of image.  Used to reduce influence of frame by frame pixel jitter. 1 works well but could increased slightly if noise is detected. \n",
    "cal_pix = 10000 #set number of pixels to be examined.  10,000 works well.\n"
   ]
  },
  {
   "cell_type": "markdown",
   "metadata": {},
   "source": [
    "---\n",
    "# 3. Load Video Information.  Display First Frame"
   ]
  },
  {
   "cell_type": "code",
   "execution_count": null,
   "metadata": {},
   "outputs": [],
   "source": [
    "#Get full path and first frame\n",
    "fpath,gray = fz.Load_First(dpath,file)\n",
    "\n",
    "#Present frame\n",
    "plt.figure(figsize=(8,8))\n",
    "plt.title('first frame')\n",
    "plt.imshow(gray)"
   ]
  },
  {
   "cell_type": "markdown",
   "metadata": {},
   "source": [
    "---\n",
    "# 4. Calibrate Video \n",
    "The following code will select cal_pix pixels (10,000, by default) at random and look at how their pixel values change across the specified length of the video.  By looking at the distribution of frame-by-frame change values for each pixel, a threshold is then set for determining what changes are likely to be attributable to the animal moving versus random fluctuation.  Currently, cutoff is is set to twice the 99.99 percentile.  \n",
    "\n",
    "This should be performed on a video with no animal inside the box.  If multiple contexts are to be used, and freezing is to be compared across them, it is best to eventually use the same motion threshold across contexts, either taking the average of the various contexts or taking the maxiumum.  "
   ]
  },
  {
   "cell_type": "code",
   "execution_count": null,
   "metadata": {},
   "outputs": [],
   "source": [
    "fz.Calibrate(fpath,cal_sec,cal_pix,fps,SIGMA)"
   ]
  }
 ],
 "metadata": {
  "kernelspec": {
   "display_name": "Python 3",
   "language": "python",
   "name": "python3"
  },
  "language_info": {
   "codemirror_mode": {
    "name": "ipython",
    "version": 3
   },
   "file_extension": ".py",
   "mimetype": "text/x-python",
   "name": "python",
   "nbconvert_exporter": "python",
   "pygments_lexer": "ipython3",
   "version": "3.6.5"
  }
 },
 "nbformat": 4,
 "nbformat_minor": 2
}
