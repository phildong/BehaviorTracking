{
 "cells": [
  {
   "cell_type": "markdown",
   "metadata": {},
   "source": [
    "# Instructions\n",
    "The following code was designed to be used in conjunction with FreezeAnalysis.ipynb and FreezeAnalysis_BatchProcess.ipynb in order to set the motion threshold for detecting motion.  Videos should be loaded in which an animal is not present in the box.\n",
    "\n",
    "\n",
    "### Package Requirements\n",
    "The following will need to be installed in your Conda environment:\n",
    "\n",
    "- python (3.6.5)\n",
    "\n",
    "- jupyter\n",
    "\n",
    "- imread\n",
    "\n",
    "- mahotas(1.4.4)\n",
    "\n",
    "- numpy(1.14.3)\n",
    "\n",
    "- pandas(0.23.0)\n",
    "\n",
    "- matplotlib(2.2.2). \n",
    "\n",
    "- opencv(3.4.3\n",
    "\n",
    "The following commands can be executed in your terminal to create an environment with these packages: \n",
    "\n",
    "- conda config --add channels conda-forge\n",
    "\n",
    "- conda create -n EnvironmentName python=3.6.5 mahotas=1.4.4 pandas=0.23.0 matplotlib=2.2.2 opencv=3.4.3 jupyter imread\n"
   ]
  },
  {
   "cell_type": "markdown",
   "metadata": {},
   "source": [
    "# 1. Load Necessary Packages"
   ]
  },
  {
   "cell_type": "code",
   "execution_count": null,
   "metadata": {},
   "outputs": [],
   "source": [
    "import pylab \n",
    "import os\n",
    "import cv2\n",
    "import numpy as np\n",
    "import mahotas as mh \n",
    "import matplotlib as mpl\n",
    "import matplotlib.pyplot as plt\n",
    "import pandas as pd"
   ]
  },
  {
   "cell_type": "markdown",
   "metadata": {},
   "source": [
    "# 2. Set Directory and File Information\n",
    "### To be set by user:"
   ]
  },
  {
   "cell_type": "code",
   "execution_count": null,
   "metadata": {},
   "outputs": [],
   "source": [
    "#Video information\n",
    "dpath = \"/Users/ZP/Videos\" # directory containing file\n",
    "file = \"Calibration Box 1.mpg\" #filename. will take mpg and wmv files but maybe more.  only mpg1 have been extensively tested.\n",
    "cal_sec = 8 #number of seconds in video to calibrate based upon\n",
    "fps = 30 #frames per second\n",
    "\n",
    "#Calibration parameters.  Needn't be changed.\n",
    "SIGMA = 1 #this is sigma used for gaussian smoothing of image.  Used to reduce influence of frame by frame pixel jitter. 1 works well but could increased slightly if noise is detected. \n",
    "cal_pix = 10000 #set number of pixels to be examined.  10,000 works well.\n",
    "Rmv_Animal = False #True/False. Attempt to remove influence of animal.  Only set to True if animal is in box"
   ]
  },
  {
   "cell_type": "markdown",
   "metadata": {},
   "source": [
    "# 3. Load Video Information.  Display First Frame"
   ]
  },
  {
   "cell_type": "code",
   "execution_count": null,
   "metadata": {},
   "outputs": [],
   "source": [
    "#Upoad file\n",
    "fpath = dpath + \"/\" + file\n",
    "print('file: '+ fpath)\n",
    "cap = cv2.VideoCapture(fpath)\n",
    "\n",
    "#Get maxiumum frame of file. Note that this is updated later if fewer frames detected\n",
    "cap_max = int(cap.get(7)) #7 is index of total frames\n",
    "print('total frames: ' + str(cap_max))\n",
    "\n",
    "#Set first frame to be displayed\n",
    "cap.set(1,0) #first index references frame property, second specifies next frame to grab\n",
    "\n",
    "#Load first frame\n",
    "ret, frame = cap.read()\n",
    "gray = cv2.cvtColor(frame, cv2.COLOR_BGR2GRAY)\n",
    "\n",
    "#Present frame\n",
    "plt.gray()\n",
    "plt.figure(figsize=(8,8))\n",
    "plt.title('first frame: ' + str(0))\n",
    "plt.imshow(gray)"
   ]
  },
  {
   "cell_type": "markdown",
   "metadata": {},
   "source": [
    "# 4. Calibrate Video \n",
    "###### The following code will select cal_pix pixels (10,000, by default) at random and look at how their pixel values change across the specified length of the video.  By looking at the distribution of frame-by-frame change values for each pixel, a threshold is then set for determining what changes are likely to be attributable to the animal moving versus random fluctuation.  Currently, cutoff is is set to twice the 99.99 percentile.  \n",
    "\n",
    "This should be performed on a video with no animal inside the box, with Rmv_Animal set to False.  If multiple contexts are to be used, it is best to eventually use the same motion threshold across contexts, either taking the average of the various contexts or taking the maxiumum.  \n",
    "\n",
    "Alternatively, there is currently an option to take video with the animal in the box and try to reduce the influence of its movement, but it cannot do so entirely, and thresholds are generally much higher.  You will likely need to play with how motion threshold is set if you do this. If animal is in the box, Rmv_Animal must be set to True.  Again, calbrating with the animal in the box is not recommended."
   ]
  },
  {
   "cell_type": "code",
   "execution_count": null,
   "metadata": {},
   "outputs": [],
   "source": [
    "#set seconds to examine and frames\n",
    "cal_frames = cal_sec*fps\n",
    "\n",
    "#Initialize matrix for difference values\n",
    "cal_dif = np.zeros((cal_frames,cal_pix))\n",
    "\n",
    "#Re-initialize video\n",
    "cap.set(1,0) #first index references frame property, second specifies next frame to grab\n",
    "\n",
    "#Initialize first frame\n",
    "ret, frame = cap.read()\n",
    "frame_new = cv2.cvtColor(frame, cv2.COLOR_BGR2GRAY)\n",
    "frame_new = mh.gaussian_filter(frame_new,sigma=SIGMA)\n",
    "\n",
    "#Get random set of pixels to examine across frames\n",
    "h,w=frame_new.shape\n",
    "h_loc = np.random.rand(cal_pix,1)*h\n",
    "h_loc = h_loc.astype(int)\n",
    "w_loc = np.random.rand(cal_pix,1)*w\n",
    "w_loc = w_loc.astype(int)\n",
    "\n",
    "#Loop through frames to detect frame by frame differences\n",
    "for x in range (1,cal_frames):\n",
    "\n",
    "    #Reset old frame\n",
    "    frame_old = frame_new\n",
    "    \n",
    "    #Load next frame\n",
    "    ret, frame = cap.read()\n",
    "\n",
    "    #Process frame\n",
    "    frame_new = cv2.cvtColor(frame, cv2.COLOR_BGR2GRAY)\n",
    "    frame_new = mh.gaussian_filter(frame_new,sigma=SIGMA) # used to reduce influence of jitter from one frame to the next\n",
    "    \n",
    "    #Get differences for select pixels\n",
    "    frame_pix_dif = np.absolute(frame_new[h_loc,w_loc] - frame_old[h_loc,w_loc])\n",
    "    frame_pix_dif = frame_pix_dif[:,0]\n",
    "     \n",
    "    #Populate difference array\n",
    "    cal_dif[x,:]=frame_pix_dif\n",
    "\n",
    "    \n",
    "#Attempt to remove differences due to movement of animal\n",
    "if Rmv_Animal:\n",
    "    otsu_rmv_animal = (mh.otsu((cal_dif*1000).astype('uint64')))/1000 #otsu will not work on non-integers.  This allows rounding to nearest 1000\n",
    "    print('Otsu to remove animal: ' + str(otsu_rmv_animal))\n",
    "    ninetynine_point_ninenine = np.percentile(cal_dif[cal_dif<otsu_rmv_animal],99.99)\n",
    "else:\n",
    "    ninetynine_point_ninenine = np.percentile(cal_dif,99.99)      \n",
    "    \n",
    "#Calculate grayscale change cutoff for detecting motion\n",
    "cal_dif_avg = np.nanmean(cal_dif)\n",
    "\n",
    "#Set Cutoff\n",
    "mt_cutoff = 2*ninetynine_point_ninenine\n",
    "\n",
    "#Print stats and selected cutoff\n",
    "print ('Average frame-by-frame pixel difference: ' + str(cal_dif_avg))\n",
    "print ('99.99 percentile of pixel change differences: ' + str(ninetynine_point_ninenine))\n",
    "print ('Grayscale change cut-off for pixel change: ' + str(mt_cutoff))\n"
   ]
  }
 ],
 "metadata": {
  "kernelspec": {
   "display_name": "Python 3",
   "language": "python",
   "name": "python3"
  },
  "language_info": {
   "codemirror_mode": {
    "name": "ipython",
    "version": 3
   },
   "file_extension": ".py",
   "mimetype": "text/x-python",
   "name": "python",
   "nbconvert_exporter": "python",
   "pygments_lexer": "ipython3",
   "version": "3.6.5"
  }
 },
 "nbformat": 4,
 "nbformat_minor": 2
}
