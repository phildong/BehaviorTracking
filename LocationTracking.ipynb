{
 "cells": [
  {
   "cell_type": "markdown",
   "metadata": {},
   "source": [
    "# Instructions\n",
    "The following code was designed in order to track the location of a single animal across the course of a session.  After initally loading in the video, the user is able to crop the video frame using a rectangle selection tool.  A background reference frame is then specified, either by taking an average of several frames in the video, or by the user providing a short video of the same environment without an animal in it.  By comparing each frame in the video to the reference frame, the location of the animal can be tracked.  It is imperative that the reference frame of the video is not shifted from the actual video.  For this reason, if a separate video is supplied, it is best that it be acquired on the same day as the behavioral recording.  The location of the animal (it's center of mass, or COM) in x,y coordinates is then recorded, as well as the distance in pixels that the animal moves from one frame to the next. Lastly, the user can specify regions of interest in the frame (e.g. left, right) using a polygon drawing tool and record for each frame whether the animal is in the region of interest.  Options for summarizing the data are also provided. \n",
    "\n",
    "### Package Requirements\n",
    "Please see instructions under repository README for package requirements and install instructions."
   ]
  },
  {
   "cell_type": "markdown",
   "metadata": {},
   "source": [
    "---\n",
    "# 1. Load Necessary Packages"
   ]
  },
  {
   "cell_type": "code",
   "execution_count": null,
   "metadata": {},
   "outputs": [],
   "source": [
    "%load_ext autoreload\n",
    "%autoreload 2\n",
    "import cv2\n",
    "import numpy as np\n",
    "import matplotlib.pyplot as plt\n",
    "import pandas as pd\n",
    "import BehaviorTracking_Functions as fz\n",
    "import holoviews as hv\n",
    "plt.gray()"
   ]
  },
  {
   "cell_type": "markdown",
   "metadata": {},
   "source": [
    "---\n",
    "# 2. User Sets Directory and File Information"
   ]
  },
  {
   "cell_type": "code",
   "execution_count": null,
   "metadata": {},
   "outputs": [],
   "source": [
    "dpath = \"/Users/ZP/Desktop/Videos\" # directory containing file\n",
    "file = \"behavCam1.avi\" #filename.  will take mpg and wmv files but maybe more.  only mpg1 has been extensively tested.\n",
    "fps = 30 #frames per second\n"
   ]
  },
  {
   "cell_type": "markdown",
   "metadata": {},
   "source": [
    "---\n",
    "# 3. Load Video and Crop Frame if Desired\n",
    "To crop video frame, select box selection tool above image (square with a plus sign).  To start drawing region to be included in analyis, double click image.  Double click again to finalize region.  If you decide to change region, it is best to rerun this cell and subsequent steps."
   ]
  },
  {
   "cell_type": "code",
   "execution_count": null,
   "metadata": {},
   "outputs": [],
   "source": [
    "%%output size=150\n",
    "\n",
    "#Select output size if image is too small/large.  Code above must be first line in cell and dictates overall size\n",
    "#of image, where 100 is standard.  stretch_w and stretch_h below allow you to alter relative width to height ratio.\n",
    "\n",
    "stretch_w = .8 #Default=1. Can be used to stretch image width if needed \n",
    "stretch_h = 2 #Default=1. Can be used to stretch image height if needed \n",
    "\n",
    "#Load image to allow cropping\n",
    "image,crop,fpath=fz.LoadAndCrop(dpath,file,stretch_w,stretch_h,cropmethod='HLine')\n",
    "image"
   ]
  },
  {
   "cell_type": "markdown",
   "metadata": {},
   "source": [
    "---\n",
    "# 4. Define Reference Frame for Location Tracking\n",
    "For location tracking to work, view of box without animal must be provided.  Below there are two ways to do this.  **Option 1** provides a method to remove the animal from the video.  This option works well provided the animal doesn't stay in the same location the whole time. Alternatively, with **Option 2**, the user can simply define a video file in the same folder that doesn't have in animal in it.  Option 1 is generally recormmended for this reason.   "
   ]
  },
  {
   "cell_type": "markdown",
   "metadata": {},
   "source": [
    "### Option 1 - Create reference frame by removing animal from video\n",
    "The following code takes 100 random frames across the session and creates an average of them by taking the median for each pixel.  This will remove influence of animal on any given frame."
   ]
  },
  {
   "cell_type": "code",
   "execution_count": null,
   "metadata": {},
   "outputs": [],
   "source": [
    "#Create Reference Frame\n",
    "reference = fz.Reference(fpath,crop,f=100) #f is paramater for number of frames from video to be sampled\n",
    "\n",
    "#Display Reference Frame\n",
    "plt.figure(figsize=(20,20))\n",
    "plt.title('Reference Frame',size=25)\n",
    "plt.imshow(reference)"
   ]
  },
  {
   "cell_type": "markdown",
   "metadata": {},
   "source": [
    "### Option 2 - User specifies video of empty box\n",
    "The following code allows the user to specify a different file.  Notably, an average is still taken of multiple frames."
   ]
  },
  {
   "cell_type": "code",
   "execution_count": null,
   "metadata": {},
   "outputs": [],
   "source": [
    "#User selects file\n",
    "altfile = 'file' #specify filename of video in dpath directory (e.g. 'Video1.mpg')\n",
    "\n",
    "#Create Reference Frame\n",
    "altpath = dpath + '/' + altfile #program sets file path from directory path and filenmae\n",
    "reference = fz.Reference(altpath,crop,f=100) #f is paramater for number of frames from video to be sampled\n",
    "\n",
    "#Display Reference Frame\n",
    "plt.figure(figsize=(20,20))\n",
    "plt.title('Reference Frame',size=25)\n",
    "plt.imshow(reference)"
   ]
  },
  {
   "cell_type": "markdown",
   "metadata": {},
   "source": [
    "---\n",
    "# 5. Track Location"
   ]
  },
  {
   "cell_type": "markdown",
   "metadata": {},
   "source": [
    "### 5a. Set Location Tracking Parameters\n",
    "Location tracking examines the deviance of each frame in a video from the reference frame on a pixel by pixel basis.  For each frame it calculates the center of mass for these differences (COM) to define the center of the animal.  \n",
    "\n",
    "In order to improve accuracy, the parameter loc_thresh is used to remove the influence of pixels that are minimally different from the reference frame.  For each frame relative to the reference frame, the distribution of absolute difference values across pixels is examined and only values above loc_thresh percentile are considered.  I have been using 99 and this works well.  Values can range from 0-100 and floating point numbers are fine.\n",
    "\n",
    "The parameters use_window, window, and window_weight are employed to reduce the chance that any objects other than the animal  that might enter the frame (e.g. the hand of the experimenter) influence location tracking.  For each frame, a square window with the animal's position on the prior frame at its center is given more weight when searching for it's location (because an animal presumably can't move far in a fraction of a second).  When window_weight is set to 0, pixels outside of the window are not considered at all; at 1, they are given equal weight.  Notably, setting a low but non-zero value (e.g. 0.1) should allow the program to more rapidly find the animal if by chance it moves out of the window."
   ]
  },
  {
   "cell_type": "code",
   "execution_count": null,
   "metadata": {},
   "outputs": [],
   "source": [
    "loc_thresh = 99\n",
    "use_window = True #True/False.  Will window surrounding prior location of animal be used\n",
    "window = 100 #The lenght of one side of square window for weighting pixels around prior location of animal.  \n",
    "window_weight = .2 #0-1 scale, where 0 is maximal weight of window surrounding prior locaiton.\n",
    "SIGMA = 1 #this is sigma used for gaussian smoothing of image.  Used to reduce influence of frame by frame pixel jitter. 1 works well but could increased slightly if noise is detected. "
   ]
  },
  {
   "cell_type": "markdown",
   "metadata": {},
   "source": [
    "### 5b. Display Examples of Location Tracking to Confirm Threshold\n",
    "In order to confirm threshold is working a subset of images is analyzed and displayed using the selected loc_thresh.  The original image is displayed on top and the difference scores are presented below.  The center of mass (COM) is pinpointed on images.  Notably, because individual frames are used, window settings are not applicable here."
   ]
  },
  {
   "cell_type": "code",
   "execution_count": null,
   "metadata": {},
   "outputs": [],
   "source": [
    "#number of examples\n",
    "examples = 3\n",
    "figsize=(20,2)\n",
    "\n",
    "fz.LocationThresh_View(examples,figsize,fpath,reference,SIGMA,loc_thresh,crop)"
   ]
  },
  {
   "cell_type": "markdown",
   "metadata": {},
   "source": [
    "### 5c. Track Location and Save Results to .csv File\n",
    "For each frame the location of the animal's center of mass is recorded in x,y coordinates.  Frame-by-frame distance is also calculated in pixel units.  This data is returned in a Pandas dataframe with columns: frame, x, y, dist.  Data is saved to a .csv in the same folder as the video."
   ]
  },
  {
   "cell_type": "code",
   "execution_count": null,
   "metadata": {},
   "outputs": [],
   "source": [
    "location=fz.TrackLocation(fpath,reference,SIGMA,loc_thresh,crop,use_window,window,window_weight)\n",
    "\n",
    "#Set output name and save\n",
    "fpath_out = fpath[:-4] + '_LocationOutput.csv'\n",
    "location.to_csv(fpath_out)\n",
    "location"
   ]
  },
  {
   "cell_type": "markdown",
   "metadata": {},
   "source": [
    "### 5d. Display Animal Location Across Session\n",
    "Below, animals distance, x, and y coordinates across the sessin are plotted.  Smooth traces are expected in the case where they animal is tracked consistently across the session."
   ]
  },
  {
   "cell_type": "code",
   "execution_count": null,
   "metadata": {},
   "outputs": [],
   "source": [
    "plt.figure(figsize=(20,8))\n",
    "plt.gray()\n",
    "plt.title('Animal Location Across Session',size=25)\n",
    "implot = plt.imshow(reference)\n",
    "plt.scatter(x=location['X'], y=location['Y'], c='b', alpha=1, s=2)\n",
    "\n",
    "#location\n",
    "w, h = 800,150\n",
    "dist_plot = hv.Curve((location['Frame'],location['Distance']),'Frame','Pixel Distance').opts(height=h,width=w,color='blue',title=\"Distance\")\n",
    "x_plot = hv.Curve((location['Frame'],location['X']),'Frame','X').opts(height=h,width=w,color='blue',title=\"X Position\")\n",
    "y_plot = hv.Curve((location['Frame'],location['Y']),'Frame','Y').opts(height=h,width=w,color='blue',title=\"Y Position\")\n",
    "layout=(dist_plot + x_plot + y_plot).cols(1)\n",
    "layout"
   ]
  },
  {
   "cell_type": "markdown",
   "metadata": {},
   "source": [
    "# 6. (Optional) Analyze Activity of Animal in Region of Interest"
   ]
  },
  {
   "cell_type": "markdown",
   "metadata": {},
   "source": [
    "### 6a. User Supplies Names of Regions of Interest"
   ]
  },
  {
   "cell_type": "code",
   "execution_count": null,
   "metadata": {},
   "outputs": [],
   "source": [
    "region_names = [\"Left\",\"Right\"]"
   ]
  },
  {
   "cell_type": "markdown",
   "metadata": {},
   "source": [
    "### 6b. Use Interactive Plot to Define Regions of Interest.  Supports Polygons. \n",
    "Draw regions of interest in the order you provided them.  To start drawing a region, double click on image.  Single click to add a vertex.  Double click to close polygon."
   ]
  },
  {
   "cell_type": "code",
   "execution_count": null,
   "metadata": {},
   "outputs": [],
   "source": [
    "%%output size=200\n",
    "#Select output size\n",
    "stretch_w = .8 #Default=1. Can be used to stretch axis if needed \n",
    "stretch_h = 2 #Default=1. Can be used to stretch axis if needed \n",
    "\n",
    "plot,poly_stream = fz.ROI_plot(reference,region_names,stretch_w,stretch_h)\n",
    "plot"
   ]
  },
  {
   "cell_type": "markdown",
   "metadata": {},
   "source": [
    "### 6c. Save Amended Output File with Locations as .csv"
   ]
  },
  {
   "cell_type": "code",
   "execution_count": null,
   "metadata": {},
   "outputs": [],
   "source": [
    "location_wROI = fz.ROI_Location(reference,poly_stream,region_names,location)\n",
    "\n",
    "#Set output name and save\n",
    "fpath_out = fpath[:-4] + '_LocationOutput.csv'\n",
    "location_wROI.to_csv(fpath_out)\n",
    "location_wROI"
   ]
  }
 ],
 "metadata": {
  "kernelspec": {
   "display_name": "Python 3",
   "language": "python",
   "name": "python3"
  },
  "language_info": {
   "codemirror_mode": {
    "name": "ipython",
    "version": 3
   },
   "file_extension": ".py",
   "mimetype": "text/x-python",
   "name": "python",
   "nbconvert_exporter": "python",
   "pygments_lexer": "ipython3",
   "version": "3.6.5"
  }
 },
 "nbformat": 4,
 "nbformat_minor": 2
}
