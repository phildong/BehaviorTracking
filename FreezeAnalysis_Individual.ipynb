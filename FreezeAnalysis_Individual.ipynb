{
 "cells": [
  {
   "cell_type": "markdown",
   "metadata": {},
   "source": [
    "# Instructions\n",
    "The following code was designed in order to load in and score motion/freezing data from video files. It allows for cropping of the video frame to reduce influence of miniscope/optogenetic cables.  After initally loading in the video, the user is able to crop the video frame by adjusting a single variable.  Motion is then detected by capturing the number of pixels whose frame by frame grayscale change value exceeds a threshold (determined using FreezeAnalysis_Calibration.ipynb).  Freezing is then assessed by calculating when motion drops below a user-defined threshold.  The user is able to visualize raw video, animal motion, and whether an animal is deemed to be freezing in order optimize parameters.  Final output is a csv which provides frame by frame motion and freezing across the session.  Additionally, summary file can be generated which allows user to get motion/freezing for specified time bins.  With the exception of setting the file path and small number of parameters (ie frames per second in video, freezing threshold), user can run through code.  Once parameters are found that work well, batch processing of multiple videos can be performed using FreezeAnalysis_BatchProcess.ipynb.\n",
    "\n",
    "### Package Requirements\n",
    "Please see instructions under repository README for package requirements and install instructions."
   ]
  },
  {
   "cell_type": "markdown",
   "metadata": {},
   "source": [
    "---\n",
    "# 1. Load Necessary Packages"
   ]
  },
  {
   "cell_type": "code",
   "execution_count": null,
   "metadata": {},
   "outputs": [],
   "source": [
    "%load_ext autoreload\n",
    "%autoreload 2\n",
    "import numpy as np\n",
    "import matplotlib.pyplot as plt\n",
    "import pandas as pd\n",
    "import holoviews as hv\n",
    "import BehaviorTracking_Functions as fz\n",
    "plt.gray()"
   ]
  },
  {
   "cell_type": "markdown",
   "metadata": {},
   "source": [
    "---\n",
    "# 2. User Sets Directory and File Information"
   ]
  },
  {
   "cell_type": "code",
   "execution_count": null,
   "metadata": {},
   "outputs": [],
   "source": [
    "dpath = \"/Users/ZP/Desktop/Videos\" # directory containing file\n",
    "file = \"Test.mpg\" #filename.  will take mpg and wmv files but maybe more.  only mpg1 has been extensively tested.\n",
    "fps = 30 #frames per second\n"
   ]
  },
  {
   "cell_type": "markdown",
   "metadata": {},
   "source": [
    "---\n",
    "# 3. Load Video and Crop Frame if Desired\n",
    "To crop video frame, hover pointer over region and click where you would like top of frame to be cropped."
   ]
  },
  {
   "cell_type": "code",
   "execution_count": null,
   "metadata": {},
   "outputs": [],
   "source": [
    "%%output size=150\n",
    "#Select output size if image is too small/large.  Code above must be first line in cell and dictates overall size\n",
    "#of image, where 100 is standard.  stretch_w and stretch_h below allow you to alter relative width to height ratio.\n",
    "\n",
    "stretch_w = 1 #Default=1. Can be used to stretch image width if needed \n",
    "stretch_h = 1 #Default=1. Can be used to stretch image height if needed \n",
    "\n",
    "#Get full path and first frame\n",
    "image,crop,fpath=fz.LoadAndCrop(dpath,file,stretch_w,stretch_h,cropmethod='HLine')\n",
    "image"
   ]
  },
  {
   "cell_type": "markdown",
   "metadata": {},
   "source": [
    "---\n",
    "# 4. Analyze Motion Across Session"
   ]
  },
  {
   "cell_type": "markdown",
   "metadata": {},
   "source": [
    "### 4a. User Sets Parameters for Motion Analysis"
   ]
  },
  {
   "cell_type": "code",
   "execution_count": null,
   "metadata": {},
   "outputs": [],
   "source": [
    "mt_cutoff = 10 #grayscale difference value required for pixel to be counted as changing\n",
    "SIGMA = 1 #this is sigma used for gaussian smoothing of image.  Used to reduce influence of frame by frame pixel jitter. 1 works well but could increased slightly if noise is detected. \n"
   ]
  },
  {
   "cell_type": "markdown",
   "metadata": {},
   "source": [
    "### 4b. Detect Motion and Plot\n",
    "Here, code loops through all frames and detects number of pixels whose grayscale change exceeds cutoff per frame.  Motion vector is populated with these values."
   ]
  },
  {
   "cell_type": "code",
   "execution_count": null,
   "metadata": {},
   "outputs": [],
   "source": [
    "Motion = fz.Measure_Motion(fpath,crop,mt_cutoff,SIGMA)  #calls function to get motion\n",
    "\n",
    "#Plot motion\n",
    "h,w = 300,1000 #height,width\n",
    "motion_plot = hv.Curve((np.arange(len(Motion)),Motion),'Frame','Pixel Change').opts(\n",
    "    height=h,width=w,color='blue',line_width=.5,title=\"Motion across Session\")\n",
    "motion_plot"
   ]
  },
  {
   "cell_type": "markdown",
   "metadata": {},
   "source": [
    "---\n",
    "# 5. Analyze Session Freezing"
   ]
  },
  {
   "cell_type": "markdown",
   "metadata": {},
   "source": [
    "### 5a. User Selects Freezing Parameters"
   ]
  },
  {
   "cell_type": "code",
   "execution_count": null,
   "metadata": {},
   "outputs": [],
   "source": [
    "FreezeThresh = 200 #Upper bound for freezing, in frame-by-frame pixels changed\n",
    "MinDuration = 1 #Number of seconds motion must be below threshold to begin accruing freezing\n",
    "MinDuration = MinDuration * fps"
   ]
  },
  {
   "cell_type": "markdown",
   "metadata": {},
   "source": [
    "### 5b. Measure Freezing"
   ]
  },
  {
   "cell_type": "code",
   "execution_count": null,
   "metadata": {},
   "outputs": [],
   "source": [
    "Freezing = fz.Measure_Freezing(Motion,FreezeThresh,MinDuration)  \n",
    "print('Average Freezing: '+ str(np.average(Freezing)) + ' %')\n",
    "\n",
    "#Plot Freezing\n",
    "h,w = 300,1000 #height,width\n",
    "freeze_times=np.ndarray.flatten(np.where(Freezing>0)[0])\n",
    "spikes = hv.Spikes(freeze_times)\n",
    "spikes.opts(line_alpha=.05,spike_length=Motion.max(),line_width=1,color='black')\n",
    "motion_plot = hv.Curve((np.arange(len(Motion)),Motion),'Frame','Motion').opts(\n",
    "    height=h,width=w,color='blue',line_width=.5,title=\"Freezing(gray) / Motion(blue) Overlay\")\n",
    "motion_plot*spikes"
   ]
  },
  {
   "cell_type": "markdown",
   "metadata": {},
   "source": [
    "---\n",
    "# 6. (Optional) Display Section of Video with Motion and Freezing\n",
    "After analyzing freezing a section of the video can be replayed and the animal's state - \"Active/Freezing\" - will be displayed.  "
   ]
  },
  {
   "cell_type": "markdown",
   "metadata": {},
   "source": [
    "### 6a. User Selects Portion of Video to be Played"
   ]
  },
  {
   "cell_type": "code",
   "execution_count": null,
   "metadata": {},
   "outputs": [],
   "source": [
    "#Video parameters\n",
    "start = 2100 #start point of video segment in frames.  0 if beginning of video.\n",
    "end = 2400 #end point of video segment in frames.  qqqqqqthis is NOT the duration of the segment\n",
    "img_scale = 2 # #Scale image by this number.5 will reduce original video size 1/2, 2 will double it, etc.\n",
    "save_video=False #Option to save video if desired.  Currently will be saved at 20 fps even if video is something else"
   ]
  },
  {
   "cell_type": "markdown",
   "metadata": {},
   "source": [
    "### 6b. Play video.  Select video frame and hold 'q' to quit video"
   ]
  },
  {
   "cell_type": "code",
   "execution_count": null,
   "metadata": {},
   "outputs": [],
   "source": [
    "fz.PlayVideo(fpath,fps,start,end,img_scale,save_video,Freezing,mt_cutoff,crop,SIGMA)"
   ]
  },
  {
   "cell_type": "markdown",
   "metadata": {},
   "source": [
    "---\n",
    "# 7. (Optional) Save Frame-By-Frame Motion"
   ]
  },
  {
   "cell_type": "code",
   "execution_count": null,
   "metadata": {},
   "outputs": [],
   "source": [
    "fz.SaveData(file,fpath,Motion,Freezing,fps,mt_cutoff,FreezeThresh,MinDuration)"
   ]
  },
  {
   "cell_type": "markdown",
   "metadata": {},
   "source": [
    "---\n",
    "# 8. (Optional) Create Binned Summary Report and Save\n",
    "The code below allows user to either save a csv containing summary data for user-defined bins (e.g. freezing in each minute) or a session-wide average."
   ]
  },
  {
   "cell_type": "markdown",
   "metadata": {},
   "source": [
    "### 8a. User Defines Bins"
   ]
  },
  {
   "cell_type": "code",
   "execution_count": null,
   "metadata": {},
   "outputs": [],
   "source": [
    "Use_Bins = True #Define whether user specified summary bins are to bew used.  True/False.  Set to False if you just want average for full video.\n",
    "\n",
    "#USER SETS BIN INFORMATION\n",
    "Bin_Names = ['avg','1','2','3','4','5'] #Create list of bin names. Must be in single/double quotes (eg: ['avg','1','2'])\n",
    "Bin_Start = [0,0,60,120,180,240] #provide list of bin start times, in seconds (eg: [0,0,60])\n",
    "Bin_Stop = [300,60,120,180,240,300] #provide list of bin end times, in seconds (eg: [120,60,120])\n",
    "\n",
    "#Check requirement that lists be equal length\n",
    "fz.Check(Bin_Names,Bin_Start,Bin_Stop) "
   ]
  },
  {
   "cell_type": "markdown",
   "metadata": {},
   "source": [
    "### 8b. Create Summary and Save"
   ]
  },
  {
   "cell_type": "code",
   "execution_count": null,
   "metadata": {},
   "outputs": [],
   "source": [
    "summary = fz.Summarize(file,Motion,Freezing,Bin_Names,Bin_Start,Bin_Stop,fps,mt_cutoff,FreezeThresh,MinDuration,Use_Bins)\n",
    "sumpath_out = dpath + \"/\" + 'SummaryStats.csv'\n",
    "summary.to_csv(sumpath_out)\n",
    "summary"
   ]
  },
  {
   "cell_type": "code",
   "execution_count": null,
   "metadata": {},
   "outputs": [],
   "source": []
  }
 ],
 "metadata": {
  "kernelspec": {
   "display_name": "Python 3",
   "language": "python",
   "name": "python3"
  },
  "language_info": {
   "codemirror_mode": {
    "name": "ipython",
    "version": 3
   },
   "file_extension": ".py",
   "mimetype": "text/x-python",
   "name": "python",
   "nbconvert_exporter": "python",
   "pygments_lexer": "ipython3",
   "version": "3.6.5"
  }
 },
 "nbformat": 4,
 "nbformat_minor": 2
}
