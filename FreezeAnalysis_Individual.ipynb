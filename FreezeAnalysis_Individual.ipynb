{
 "cells": [
  {
   "cell_type": "markdown",
   "metadata": {},
   "source": [
    "# Instructions\n",
    "The following code was designed in order to load in and score motion/freezing data from mpg/wmv video files. It allows for cropping of the video frame to reduce influence of miniscope/optogenetic cables.  After initally loading in the video, the user is able to crop the video frame by adjusting a single variable.  Motion is then detected by capturing the number of pixels whose frame by frame grayscale change value exceeds a threshold (determined using FreezeAnalysis_Calibration.ipynb).  Freezing is then assessed by calculating when motion drops below a user-defined threshold.  The user is able to visualize raw video, animal motion, and whether an animal is deemed to be freezing in order optimize parameters.  Final output is a csv which provides frame by frame motion and freezing across the session.  With the exception of setting the file path and small number of parameters (ie frames per second in video, freezing threshold), user can run through code.  Once parameters are found that work well, batch processing of multiple videos can be performed using FreezeAnalysis_BatchProcess.ipynb.\n",
    "\n",
    "### Package Requirements\n",
    "The following will need to be installed in your Conda environment:\n",
    "\n",
    "- python (3.6.5)\n",
    "\n",
    "- jupyter\n",
    "\n",
    "- imread\n",
    "\n",
    "- mahotas(1.4.4)\n",
    "\n",
    "- numpy(1.14.3)\n",
    "\n",
    "- pandas(0.23.0)\n",
    "\n",
    "- matplotlib(2.2.2)\n",
    "\n",
    "- opencv(3.4.3)\n",
    "\n",
    "The following commands can be executed in your terminal to create an environment with these packages: \n",
    "\n",
    "```conda config --add channels conda-forge```\n",
    "\n",
    "```conda create -n EnvironmentName python=3.6.5 mahotas=1.4.4 pandas=0.23.0 matplotlib=2.2.2 opencv=3.4.3 jupyter imread```\n"
   ]
  },
  {
   "cell_type": "markdown",
   "metadata": {},
   "source": [
    "---\n",
    "# 1. Load Necessary Packages"
   ]
  },
  {
   "cell_type": "code",
   "execution_count": null,
   "metadata": {},
   "outputs": [],
   "source": [
    "%load_ext autoreload\n",
    "%autoreload 2\n",
    "import numpy as np\n",
    "import matplotlib.pyplot as plt\n",
    "import pandas as pd\n",
    "import FreezeAnalysis_Functions as fz\n",
    "plt.gray()"
   ]
  },
  {
   "cell_type": "markdown",
   "metadata": {},
   "source": [
    "---\n",
    "# 2. User Sets Directory and File Information"
   ]
  },
  {
   "cell_type": "code",
   "execution_count": null,
   "metadata": {},
   "outputs": [],
   "source": [
    "dpath = \"/Users/ZP/Desktop/Videos\" # directory containing file\n",
    "file = \"Test1_m6.mpg\" #filename.  will take mpg and wmv files but maybe more.  only mpg1 has been extensively tested.\n",
    "fps = 30 #frames per second\n"
   ]
  },
  {
   "cell_type": "markdown",
   "metadata": {},
   "source": [
    "---\n",
    "# 3. Load Video Information.  Display First Frame"
   ]
  },
  {
   "cell_type": "code",
   "execution_count": null,
   "metadata": {},
   "outputs": [],
   "source": [
    "#Get full path and first frame\n",
    "fpath,gray = fz.Load_First(dpath,file)\n",
    "\n",
    "#Present frame\n",
    "plt.figure(figsize=(8,8))\n",
    "plt.title('first frame')\n",
    "plt.imshow(gray)"
   ]
  },
  {
   "cell_type": "markdown",
   "metadata": {},
   "source": [
    "---\n",
    "# 4. User Selects Cropping Parameters\n",
    "Here, upper portion of video to be cropped can be set.  Use y-axis value from previous cell. Be sure to set ycrop=0 if no cropping desired\n"
   ]
  },
  {
   "cell_type": "code",
   "execution_count": null,
   "metadata": {},
   "outputs": [],
   "source": [
    "#set ycrop\n",
    "ycrop = 150\n",
    "\n",
    "#Displays result\n",
    "plt.gray()\n",
    "plt.figure(figsize=(8,8))\n",
    "plt.title('Cropped Frame. ycrop=' + str(ycrop))\n",
    "plt.imshow(gray[ycrop:,:])"
   ]
  },
  {
   "cell_type": "markdown",
   "metadata": {},
   "source": [
    "---\n",
    "# 5. Analyze Motion Across Session"
   ]
  },
  {
   "cell_type": "markdown",
   "metadata": {},
   "source": [
    "### 5a. User Sets Parameters for Motion Analysis"
   ]
  },
  {
   "cell_type": "code",
   "execution_count": null,
   "metadata": {},
   "outputs": [],
   "source": [
    "mt_cutoff = 13.2 #grayscale difference value required for pixel to be counted as changing\n",
    "SIGMA = 1 #this is sigma used for gaussian smoothing of image.  Used to reduce influence of frame by frame pixel jitter. 1 works well but could increased slightly if noise is detected. \n"
   ]
  },
  {
   "cell_type": "markdown",
   "metadata": {},
   "source": [
    "### 5b. Detect Motion\n",
    "Here, code loops through all frames and detects number of pixels whose grayscale change exceeds cutoff per frame.  Motion vector is populated with these values."
   ]
  },
  {
   "cell_type": "code",
   "execution_count": null,
   "metadata": {},
   "outputs": [],
   "source": [
    "Motion = fz.Measure_Motion(fpath,ycrop,mt_cutoff,SIGMA)  #calls function to get motion"
   ]
  },
  {
   "cell_type": "markdown",
   "metadata": {},
   "source": [
    "### 5c. Plot Motion Across Session\n",
    "User can alter y coordinates as desired"
   ]
  },
  {
   "cell_type": "code",
   "execution_count": null,
   "metadata": {},
   "outputs": [],
   "source": [
    "#set y coordinates\n",
    "ymin = 0\n",
    "ymax = 1000\n",
    "\n",
    "#plot figure\n",
    "plt.figure(figsize=(15,4))\n",
    "plt.ylim(ymin,ymax)\n",
    "plt.title('Motion Across Session')\n",
    "plt.xlabel('Frame')\n",
    "plt.ylabel('Pixel Change')\n",
    "plt.plot(Motion)"
   ]
  },
  {
   "cell_type": "markdown",
   "metadata": {},
   "source": [
    "---\n",
    "# 6. Analyze Session Freezing"
   ]
  },
  {
   "cell_type": "markdown",
   "metadata": {},
   "source": [
    "### 6a. User Selects Freezing Parameters"
   ]
  },
  {
   "cell_type": "code",
   "execution_count": null,
   "metadata": {},
   "outputs": [],
   "source": [
    "FreezeThresh = 100 #Upper bound for freezing, in frame-by-frame pixels changed\n",
    "MinDuration = 1 #Number of seconds motion must be below threshold to begin accruing freezing\n",
    "MinDuration = MinDuration * fps"
   ]
  },
  {
   "cell_type": "markdown",
   "metadata": {},
   "source": [
    "### 6b. Measure Freezing"
   ]
  },
  {
   "cell_type": "code",
   "execution_count": null,
   "metadata": {},
   "outputs": [],
   "source": [
    "Freezing = fz.Measure_Freezing(Motion,FreezeThresh,MinDuration)  "
   ]
  },
  {
   "cell_type": "markdown",
   "metadata": {},
   "source": [
    "### 6c. Plot Freezing"
   ]
  },
  {
   "cell_type": "code",
   "execution_count": null,
   "metadata": {},
   "outputs": [],
   "source": [
    "print('Average Freezing: '+ str(np.average(Freezing)) + ' %')\n",
    "\n",
    "#Plot Freezing\n",
    "plt.figure(figsize=(15,4))\n",
    "plt.ylim(0,101)\n",
    "plt.title('Freezing Across Session')\n",
    "plt.xlabel('Frame')\n",
    "plt.ylabel('Freezing')\n",
    "plt.plot(Freezing)"
   ]
  },
  {
   "cell_type": "markdown",
   "metadata": {},
   "source": [
    "---\n",
    "# 7. (Optional) Display Section of Video and Display Freezing\n",
    "After analyzing freezing a section of the video can be replayed and the animal's state - \"Active/Freezing\" - will be displayed.  "
   ]
  },
  {
   "cell_type": "markdown",
   "metadata": {},
   "source": [
    "### 7a. User Selects Portion of Video to be Played"
   ]
  },
  {
   "cell_type": "code",
   "execution_count": null,
   "metadata": {},
   "outputs": [],
   "source": [
    "#Video parameters\n",
    "start = 33 #start point of video segment in frames.  0 if beginning of video.\n",
    "end = 90 #end point of video segment in frames.  qqqqqqthis is NOT the duration of the segment\n",
    "img_scale = 2 # #Scale image by this number.5 will reduce original video size 1/2, 2 will double it, etc.\n",
    "save_video=False #Option to save video if desired.  Currently will be saved at 20 fps even if video is something else"
   ]
  },
  {
   "cell_type": "markdown",
   "metadata": {},
   "source": [
    "### 7b. Play video.  Select video frame and hold 'q' to quit video"
   ]
  },
  {
   "cell_type": "code",
   "execution_count": null,
   "metadata": {},
   "outputs": [],
   "source": [
    "fz.PlayVideo(fpath,fps,start,end,img_scale,save_video,Freezing,mt_cutoff,ycrop,SIGMA)"
   ]
  },
  {
   "cell_type": "markdown",
   "metadata": {},
   "source": [
    "---\n",
    "# 8. (Optional) Save Frame-By-Frame Motion"
   ]
  },
  {
   "cell_type": "code",
   "execution_count": null,
   "metadata": {},
   "outputs": [],
   "source": [
    "fz.SaveData(file,fpath,Motion,Freezing,fps,mt_cutoff,FreezeThresh,MinDuration)"
   ]
  }
 ],
 "metadata": {
  "kernelspec": {
   "display_name": "Python 3",
   "language": "python",
   "name": "python3"
  },
  "language_info": {
   "codemirror_mode": {
    "name": "ipython",
    "version": 3
   },
   "file_extension": ".py",
   "mimetype": "text/x-python",
   "name": "python",
   "nbconvert_exporter": "python",
   "pygments_lexer": "ipython3",
   "version": "3.6.5"
  }
 },
 "nbformat": 4,
 "nbformat_minor": 2
}
