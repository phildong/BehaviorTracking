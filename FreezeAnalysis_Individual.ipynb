{
 "cells": [
  {
   "cell_type": "markdown",
   "metadata": {},
   "source": [
    "# Instructions\n",
    "The following code was designed in order to load in and score motion/freezing data from mpg/wmv video files. It allows for cropping of the video frame to reduce influence of miniscope/optogenetic cables.  After initally loading in the video, the user is able to crop the video frame by adjusting a single variable.  Motion is then detected by capturing the number of pixels whose frame by frame grayscale change value exceeds a threshold (determined using FreezeAnalysis_Calibration.ipynb).  Freezing is then assessed by calculating when motion drops below a user-defined threshold.  The user is able to visualize raw video, animal motion, and whether an animal is deemed to be freezing in order optimize parameters.  Final output is a csv which provides frame by frame motion and freezing across the session.  With the exception of setting the file path and small number of parameters (ie frames per second in video, freezing threshold), user can run through code.  Once parameters are found that work well, batch processing of multiple videos can be performed using FreezeAnalysis_BatchProcess.ipynb.\n",
    "\n",
    "### Package Requirements\n",
    "The following will need to be installed in your Conda environment:\n",
    "\n",
    "- python (3.6.5)\n",
    "\n",
    "- jupyter\n",
    "\n",
    "- imread\n",
    "\n",
    "- mahotas(1.4.4)\n",
    "\n",
    "- numpy(1.14.3)\n",
    "\n",
    "- pandas(0.23.0)\n",
    "\n",
    "- matplotlib(2.2.2)\n",
    "\n",
    "- opencv(3.4.3)\n",
    "\n",
    "The following commands can be executed in your terminal to create an environment with these packages: \n",
    "\n",
    "- conda config --add channels conda-forge\n",
    "\n",
    "- conda create -n EnvironmentName python=3.6.5 mahotas=1.4.4 pandas=0.23.0 matplotlib=2.2.2 opencv=3.4.3 jupyter imread\n"
   ]
  },
  {
   "cell_type": "markdown",
   "metadata": {},
   "source": [
    "# 1. Load Necessary Packages"
   ]
  },
  {
   "cell_type": "code",
   "execution_count": null,
   "metadata": {},
   "outputs": [],
   "source": [
    "import pylab \n",
    "import os\n",
    "import cv2\n",
    "import numpy as np\n",
    "import mahotas as mh \n",
    "import matplotlib as mpl\n",
    "import matplotlib.pyplot as plt\n",
    "import pandas as pd"
   ]
  },
  {
   "cell_type": "markdown",
   "metadata": {},
   "source": [
    "# 2. User Sets Directory and File Information"
   ]
  },
  {
   "cell_type": "code",
   "execution_count": null,
   "metadata": {},
   "outputs": [],
   "source": [
    "dpath = \"/Users/ZP/Videos # directory containing file\n",
    "file = \"Test_m6.mpg\" #filename.  will take mpg and wmv files but maybe more.  only mpg1 has been extensively tested.\n",
    "fps = 30 #frames per second"
   ]
  },
  {
   "cell_type": "markdown",
   "metadata": {},
   "source": [
    "# 3. Load Video Information.  Display First Frame"
   ]
  },
  {
   "cell_type": "code",
   "execution_count": null,
   "metadata": {},
   "outputs": [],
   "source": [
    "#Upoad file\n",
    "fpath = dpath + \"/\" + file\n",
    "print('file: '+ fpath)\n",
    "cap = cv2.VideoCapture(fpath)\n",
    "\n",
    "#Get maxiumum frame of file. Note that this is updated later if fewer frames detected\n",
    "cap_max = int(cap.get(7)) #7 is index of total frames\n",
    "print('total frames: ' + str(cap_max))\n",
    "\n",
    "#Set first frame to be displayed\n",
    "cap.set(1,0) #first index references frame property, second specifies next frame to grab\n",
    "\n",
    "#Initialize ycrop in the event that it is not subsequently set to something other than 0\n",
    "ycrop = 0\n",
    "\n",
    "#Load first frame\n",
    "ret, frame = cap.read()\n",
    "gray = cv2.cvtColor(frame, cv2.COLOR_BGR2GRAY)\n",
    "\n",
    "#Present frame\n",
    "plt.gray()\n",
    "plt.figure(figsize=(8,8))\n",
    "plt.title('first frame: ' + str(0))\n",
    "plt.imshow(gray)"
   ]
  },
  {
   "cell_type": "markdown",
   "metadata": {},
   "source": [
    "# 4. User Selects Cropping Parameters\n",
    "### Here, upper portion of video to be cropped can be set.  Use y-axis value from previous cell. Be sure to set ycrop=0 if no cropping desired\n"
   ]
  },
  {
   "cell_type": "code",
   "execution_count": null,
   "metadata": {},
   "outputs": [],
   "source": [
    "#set ycrop\n",
    "ycrop = 140\n",
    "\n",
    "#Displays result\n",
    "plt.gray()\n",
    "plt.figure(figsize=(8,8))\n",
    "plt.title('Cropped Frame. ycrop=' + str(ycrop))\n",
    "plt.imshow(gray[ycrop:,:])"
   ]
  },
  {
   "cell_type": "markdown",
   "metadata": {},
   "source": [
    "# Analyze Motion Across Session"
   ]
  },
  {
   "cell_type": "markdown",
   "metadata": {},
   "source": [
    "## 5a. User Sets Parameters for Motion Analysis"
   ]
  },
  {
   "cell_type": "code",
   "execution_count": null,
   "metadata": {},
   "outputs": [],
   "source": [
    "mt_cutoff = 10.3 #grayscale difference value required for pixel to be counted as changing\n",
    "SIGMA = 1 #this is sigma used for gaussian smoothing of image.  Used to reduce influence of frame by frame pixel jitter. 1 works well but could increased slightly if noise is detected. "
   ]
  },
  {
   "cell_type": "markdown",
   "metadata": {},
   "source": [
    "## 5b. Detect Motion\n",
    "###### Here, code loops through all frames and detects number of pixels whose grayscale change exceeds cutoff per frame.  Motion vector is populated with these values."
   ]
  },
  {
   "cell_type": "code",
   "execution_count": null,
   "metadata": {},
   "outputs": [],
   "source": [
    "Display_Vid = False #set to True if you want to view motion detection video.  Otherwise set to False.  While helpful to validate code is working optimally, slows things down.  Smaller segment of video can be run after freezing is measured.\n",
    "\n",
    "#Initialize vector to store motion values in\n",
    "Motion = np.zeros(cap_max)\n",
    "\n",
    "#Re-initialize video\n",
    "cap.set(1,0) #first index references frame property, second specifies next frame to grab\n",
    "\n",
    "#Initialize first frame\n",
    "ret, frame = cap.read()\n",
    "frame_new = cv2.cvtColor(frame, cv2.COLOR_BGR2GRAY)\n",
    "frame_new = frame_new[ycrop:,:]\n",
    "frame_new = mh.gaussian_filter(frame_new,sigma=SIGMA)\n",
    "\n",
    "#Loop through frames to detect frame by frame differences\n",
    "for x in range (1,cap_max):\n",
    "    \n",
    "    #Reset old frame\n",
    "    frame_old = frame_new\n",
    "    \n",
    "    #Attempt to load next frame\n",
    "    ret, frame = cap.read()\n",
    "    if ret == True:\n",
    "        \n",
    "        #Reset new frame and process\n",
    "        frame_new = cv2.cvtColor(frame, cv2.COLOR_BGR2GRAY)\n",
    "        frame_new = frame_new[ycrop:,:]\n",
    "        frame_new = mh.gaussian_filter(frame_new,sigma=SIGMA) # used to reduce influence of jitter from one frame to the next\n",
    "    \n",
    "        #Calculate difference between frames\n",
    "        frame_dif = np.absolute(frame_new - frame_old)\n",
    "        frame_cut = frame_dif > mt_cutoff\n",
    "        frame_cut = frame_cut.astype('uint8')\n",
    "        \n",
    "        #Display pixels detected as exceeeding threshold\n",
    "        if Display_Vid:\n",
    "            cv2.imshow(\"preview\", frame_cut*255)\n",
    "            cv2.waitKey(1)\n",
    " \n",
    "        #Assign difference to array\n",
    "        Motion[x]=np.sum(frame_cut)\n",
    "        \n",
    "    else: \n",
    "        #if no frame is detected\n",
    "        cap_max = (x-1) #Reset max frame to last frame detected\n",
    "        Motion = Motion[:cap_max] #Amend length of motion vector\n",
    "        print('Maximum frames less than expected. Adjusting to: ' + str(cap_max))\n",
    "        break\n",
    "\n",
    "#Close video window if open        \n",
    "if Display_Vid:\n",
    "    cv2.destroyAllWindows()\n",
    "    _=cv2.waitKey(1)   \n",
    "    "
   ]
  },
  {
   "cell_type": "markdown",
   "metadata": {},
   "source": [
    "## 5c. Plot Motion Across Session"
   ]
  },
  {
   "cell_type": "code",
   "execution_count": null,
   "metadata": {},
   "outputs": [],
   "source": [
    "plt.figure(figsize=(15,4))\n",
    "plt.ylim(0,2000)\n",
    "plt.title('Motion Across Session')\n",
    "plt.xlabel('Frame')\n",
    "plt.ylabel('Pixel Change')\n",
    "plt.plot(Motion)"
   ]
  },
  {
   "cell_type": "markdown",
   "metadata": {},
   "source": [
    "# Analyze Session Freezing"
   ]
  },
  {
   "cell_type": "markdown",
   "metadata": {},
   "source": [
    "## 6a. User Selects Freezing Parameters"
   ]
  },
  {
   "cell_type": "code",
   "execution_count": null,
   "metadata": {},
   "outputs": [],
   "source": [
    "FreezeThresh = 200 #Upper bound for freezing, in frame-by-frame pixels changed\n",
    "MinDuration = 1 #Number of seconds motion must be below threshold to begin accruing freezing\n",
    "MinDuration = MinDuration * fps"
   ]
  },
  {
   "cell_type": "markdown",
   "metadata": {},
   "source": [
    "## 6b. Measure Freezing"
   ]
  },
  {
   "cell_type": "code",
   "execution_count": null,
   "metadata": {},
   "outputs": [],
   "source": [
    "#Find frames below thresh\n",
    "BelowThresh = (Motion<FreezeThresh).astype(int)\n",
    "\n",
    "#Perform local cumulative thresh detection\n",
    "#For each consecutive frame motion is below threshold count is increased by 1 until motion goes above thresh, at which point coint is set back to 0\n",
    "CumThresh = np.zeros(cap_max)\n",
    "for x in range (1,cap_max):\n",
    "    if (BelowThresh[x]==1):\n",
    "        CumThresh[x] = CumThresh[x-1] + BelowThresh[x]\n",
    "        \n",
    "#Measure Freezing\n",
    "Freezing = (CumThresh>=MinDuration).astype(int) #whenever motion has dropped below the thresh for at least MinDuration call this freezing\n",
    "\n",
    "#the following code makes it so that the initial 30 before CumThresh meets MinDuration are still counted as freezing\n",
    "#Debating whether the code renders better results\n",
    "for x in range( len(Freezing) - 2, -1, -1) : \n",
    "    if Freezing[x] == 0 and Freezing[x+1]>0 and Freezing[x+1]<MinDuration:\n",
    "        Freezing[x] = Freezing[x+1] + 1\n",
    "Freezing = (Freezing>0).astype(int)"
   ]
  },
  {
   "cell_type": "markdown",
   "metadata": {},
   "source": [
    "## 6c. Plot Freezing"
   ]
  },
  {
   "cell_type": "code",
   "execution_count": null,
   "metadata": {},
   "outputs": [],
   "source": [
    "print('Average Freezing: '+ str(np.average(Freezing)*100) + ' %')\n",
    "\n",
    "#Plot Freezing\n",
    "plt.figure(figsize=(15,4))\n",
    "plt.ylim(0,1.1)\n",
    "plt.title('Freezing Across Session')\n",
    "plt.xlabel('Frame')\n",
    "plt.ylabel('Freezing')\n",
    "plt.plot(Freezing)"
   ]
  },
  {
   "cell_type": "markdown",
   "metadata": {},
   "source": [
    "# Display section of video and display when freezing is occuring\n",
    "##### After analyzing freezing a section of the video can be replayed and the animal's state - \"Active/Freezing\" - will be displayed.  "
   ]
  },
  {
   "cell_type": "markdown",
   "metadata": {},
   "source": [
    "## 7a. User Selects Portion of Video to be Played"
   ]
  },
  {
   "cell_type": "code",
   "execution_count": null,
   "metadata": {},
   "outputs": [],
   "source": [
    "start = 10 #start point of video segment in seconds.  0 if beginning of video.\n",
    "end = 20 #end point of video segment in seconds.  this is NOT the duration of the segment\n",
    "\n",
    "#Video parameters\n",
    "img_scale = 2.5 # #Scale image by this number.5 will reduce original video size 1/2, 2 will double it, etc.\n",
    "save_video=False #Option to save video if desired.  Currently will be saved at 20 fps even if video is something else"
   ]
  },
  {
   "cell_type": "markdown",
   "metadata": {},
   "source": [
    "## 7b. Play video.  Press 'q' to quite video"
   ]
  },
  {
   "cell_type": "code",
   "execution_count": null,
   "metadata": {},
   "outputs": [],
   "source": [
    "#redfine start/end in frames\n",
    "fstart = start*fps\n",
    "fend = end*fps\n",
    "\n",
    "#set play speed and define first frame\n",
    "rate = int(1000/fps) #duration each frame is present for, in milliseconds\n",
    "cap.set(1,fstart) #set reference position of first frame to 0\n",
    "\n",
    "#set text parameters\n",
    "textfont = cv2.FONT_HERSHEY_SIMPLEX\n",
    "textposition = (10,30)\n",
    "textfontscale = 1\n",
    "textlinetype = 2\n",
    "\n",
    "#Initialize first frame\n",
    "ret, frame = cap.read()\n",
    "frame_new = cv2.cvtColor(frame, cv2.COLOR_BGR2GRAY)\n",
    "frame_new = frame_new[ycrop:,:]\n",
    "frame_new = mh.gaussian_filter(frame_new,sigma=SIGMA)\n",
    "\n",
    "#Initialize video storage if desired\n",
    "if save_video:\n",
    "    width = int(frame.shape[1]*img_scale)\n",
    "    height = int((frame.shape[0]+frame.shape[0]-ycrop)*img_scale)\n",
    "    fourcc = cv2.VideoWriter_fourcc(*'jpeg') #only writes up to 20 fps, though video read can be 30.\n",
    "    #fourcc = cv2.VideoWriter_fourcc(*'MJPG') #only writes up to 20 fps, though video read can be 30.\n",
    "    writer = cv2.VideoWriter('out.avi', fourcc, 20.0, (width, height),isColor=False)\n",
    "\n",
    "#Loop through frames to detect frame by frame differences\n",
    "for x in range (fstart+1,fend):\n",
    "    \n",
    "    # press 'q' to exit\n",
    "    if cv2.waitKey(1) & 0xFF == ord('q'):\n",
    "        break\n",
    "    \n",
    "    #Attempt to load next frame\n",
    "    ret, frame = cap.read()\n",
    "    if ret == True:\n",
    "        \n",
    "        #Convert to gray scale\n",
    "        frame = cv2.cvtColor(frame, cv2.COLOR_BGR2GRAY)\n",
    "        \n",
    "        #set old frame to new frame\n",
    "        frame_old = frame_new\n",
    "          \n",
    "        #Reset new frame and process\n",
    "        frame_new = frame\n",
    "        frame_new = frame_new[ycrop:,:]\n",
    "        frame_new = mh.gaussian_filter(frame_new,sigma=SIGMA) # used to reduce influence of jitter from one frame to the next\n",
    "        \n",
    "        #Calculate difference between frames\n",
    "        frame_dif = np.absolute(frame_new - frame_old)\n",
    "        frame_cut = frame_dif > mt_cutoff\n",
    "        frame_cut = frame_cut.astype('uint8')*255\n",
    "        \n",
    "        #Add text to videos\n",
    "        if Freezing[x]==1:\n",
    "            texttext = 'FREEZING'\n",
    "            textfontcolor = 255\n",
    "        else:\n",
    "            texttext = 'ACTIVE'\n",
    "            textfontcolor = 0\n",
    "        cv2.putText(frame,texttext,textposition,textfont,textfontscale,textfontcolor,textlinetype)\n",
    "\n",
    "        #Display video\n",
    "        frame = cv2.resize(frame, (0,0), fx=img_scale, fy=img_scale) \n",
    "        frame_cut = cv2.resize(frame_cut, (0,0), fx=img_scale, fy=img_scale)\n",
    "        preview = np.concatenate((frame,frame_cut))\n",
    "        cv2.imshow(\"preview\",preview)\n",
    "        cv2.waitKey(rate)\n",
    "        \n",
    "        #Save video (if desired). \n",
    "        if save_video:\n",
    "            writer.write(preview) \n",
    "\n",
    "    else: \n",
    "        print('No frame detected at frame : ' + str(x) + '.Stopping video play')\n",
    "        break\n",
    "    \n",
    "#Close video window and video writer if open        \n",
    "cv2.destroyAllWindows()\n",
    "_=cv2.waitKey(1) \n",
    "if save_video:\n",
    "    writer.release()\n"
   ]
  },
  {
   "cell_type": "markdown",
   "metadata": {},
   "source": [
    "# 8. Create Dataframe and Save"
   ]
  },
  {
   "cell_type": "code",
   "execution_count": null,
   "metadata": {},
   "outputs": [],
   "source": [
    "#Set output name\n",
    "fpath_out = fpath[:-4] + '.FreezingOutput.csv'\n",
    "\n",
    "#Create Dataframe\n",
    "DataFrame = pd.DataFrame(\n",
    "    {'File': [file]*cap_max,\n",
    "     'FPS': np.ones(cap_max)*fps,\n",
    "     'MotionCutoff':np.ones(cap_max)*mt_cutoff,\n",
    "     'FreezeThresh':np.ones(cap_max)*FreezeThresh,\n",
    "     'Frame': np.arange(cap_max),\n",
    "     'Motion': Motion,\n",
    "     'Freezing': Freezing\n",
    "    })   \n",
    "\n",
    "DataFrame.to_csv(fpath_out)"
   ]
  }
 ],
 "metadata": {
  "kernelspec": {
   "display_name": "Python 3",
   "language": "python",
   "name": "python3"
  },
  "language_info": {
   "codemirror_mode": {
    "name": "ipython",
    "version": 3
   },
   "file_extension": ".py",
   "mimetype": "text/x-python",
   "name": "python",
   "nbconvert_exporter": "python",
   "pygments_lexer": "ipython3",
   "version": "3.6.5"
  }
 },
 "nbformat": 4,
 "nbformat_minor": 2
}
