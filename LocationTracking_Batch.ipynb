{
 "cells": [
  {
   "cell_type": "code",
   "execution_count": null,
   "metadata": {},
   "outputs": [],
   "source": [
    "%load_ext autoreload\n",
    "%autoreload 2\n",
    "import os\n",
    "import re\n",
    "import numpy as np\n",
    "import pandas as pd\n",
    "import LocationTracking_Functions as lt\n",
    "import holoviews as hv"
   ]
  },
  {
   "cell_type": "code",
   "execution_count": null,
   "metadata": {},
   "outputs": [],
   "source": [
    "dpath = \"\"\n",
    "params = {\n",
    "    'video_dict': {\n",
    "        'fps': 30,\n",
    "        'start': 0,\n",
    "        'end': None\n",
    "    },\n",
    "    'stretch': {\n",
    "        'height': 1,\n",
    "        'width': 1\n",
    "    },\n",
    "    'tracking_params': {\n",
    "        'loc_thresh': 99,\n",
    "        'use_window': True,\n",
    "        'window_size': 100,\n",
    "        'window_weight': 0,\n",
    "        'SIGMA': 1\n",
    "    }\n",
    "}"
   ]
  },
  {
   "cell_type": "code",
   "execution_count": null,
   "metadata": {},
   "outputs": [],
   "source": [
    "def track_loc(video_dict, stretch, tracking_params):\n",
    "    image, crop, video_dict = lt.LoadAndCrop(video_dict, stretch)\n",
    "    ref = lt.Reference(video_dict, crop, num_frames=100)\n",
    "    location = lt.TrackLocation(video_dict, tracking_params, ref, crop)\n",
    "    return location"
   ]
  },
  {
   "cell_type": "code",
   "execution_count": null,
   "metadata": {},
   "outputs": [],
   "source": [
    "loc_ls = []\n",
    "for cur_fd, dirs, files in os.walk(dpath):\n",
    "    cur_params = params\n",
    "    cur_params['video_dict']['dpath'] = cur_fd\n",
    "    vid_pattern = re.compile(r\"^(?P<session>s[0-9]{2}_.*_.*)_r(?P<run>[0-9]) Box (?P<box>[1-4])\\.wmv$\")\n",
    "    match_ls = list(filter(None, map(vid_pattern.match, files)))\n",
    "    for vid_ma in match_ls:\n",
    "        print(\"processing {}\".format(vid_ma.group()))\n",
    "        cur_params['video_dict']['file'] = vid_ma.group()\n",
    "        cur_loc = track_loc(**cur_params)\n",
    "        sess, run, box = vid_ma.group('session'), vid_ma.group('run'), vid_ma.group('box')\n",
    "        cur_loc['session'], cur_loc['run'], cur_loc['box'] = sess, run, box\n",
    "        loc_ls.append(cur_loc)"
   ]
  },
  {
   "cell_type": "code",
   "execution_count": null,
   "metadata": {},
   "outputs": [],
   "source": [
    "loc_master = pd.concat(loc_ls, axis='rows')\n",
    "loc_master.to_pickle(os.path.join(dpath, \"locations.pkl\"))"
   ]
  }
 ],
 "metadata": {
  "kernelspec": {
   "display_name": "Python3 (FREEze)",
   "language": "python",
   "name": "freeze"
  },
  "language_info": {
   "codemirror_mode": {
    "name": "ipython",
    "version": 3
   },
   "file_extension": ".py",
   "mimetype": "text/x-python",
   "name": "python",
   "nbconvert_exporter": "python",
   "pygments_lexer": "ipython3",
   "version": "3.6.7"
  }
 },
 "nbformat": 4,
 "nbformat_minor": 2
}
